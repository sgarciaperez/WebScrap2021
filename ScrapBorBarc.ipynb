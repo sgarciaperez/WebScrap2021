{
 "cells": [
  {
   "cell_type": "code",
   "execution_count": 19,
   "id": "virgin-elite",
   "metadata": {},
   "outputs": [],
   "source": [
    "import os\n",
    "import requests\n",
    "import argparse\n",
    "import pathlib\n",
    "import csv\n",
    "from datetime import datetime\n",
    "from bs4 import BeautifulSoup\n"
   ]
  },
  {
   "cell_type": "code",
   "execution_count": 26,
   "id": "vanilla-processing",
   "metadata": {},
   "outputs": [],
   "source": [
    "# Función para obtener la lista de indices del Ibex 35 de la bolsa de Barcelona\n",
    "# Tendremos una tabla donde la primera fila el nombre de la empresa y los índices\n",
    "# El resto de filas contendrá los valores; el valor del primer elemento será una tupla\n",
    "def getIndexs(UrlBase,UrlRef):\n",
    "    indexList = []\n",
    "    UrlIndexPage = UrlBase+UrlRef\n",
    "    # Data for post form\n",
    "    data = {'punto':'indice'}    \n",
    "    page = requests.post(UrlIndexPage)\n",
    "    #page = requests.get(UrlIndexPage).text \n",
    "    soup = BeautifulSoup(page.text, \"html.parser\")\n",
    "    tabla = soup.find('table', attrs={'id': 'ctl00_Contenido_tblAcciones'})           \n",
    "    # Extraigo los valores de la tabla y sus enlaces\n",
    "    rowList = []\n",
    "    for tr in tabla.find_all(\"tr\"):\n",
    "        cells = tr.findAll('td')        \n",
    "        colList = []\n",
    "        for cell in cells:        \n",
    "            href = ''            \n",
    "            a= cell.find('a')              \n",
    "            if (a is not None):                 \n",
    "                href = a.get('href')                                \n",
    "                # Append / if needed\n",
    "                if href[0] !='/':\n",
    "                    href = '/' + href                                     \n",
    "            value = [cell.text.strip(),href]                  \n",
    "            colList.append(value)                                           \n",
    "        # Append to rowlist    \n",
    "        rowList.append(colList)           \n",
    "    return rowList \n",
    "    \n",
    "def writecsv(table,filename):\n",
    "    currentDir = os.path.abspath('')\n",
    "    filePath = os.path.join(currentDir,filename)\n",
    "    file = open(filePath,\"w+\")\n",
    "    for row in table:\n",
    "        for col in row:\n",
    "            file.write(col[0]+\";\")\n",
    "        file.write(\"\\n\")    \n",
    "        "
   ]
  },
  {
   "cell_type": "code",
   "execution_count": 27,
   "id": "prescribed-candidate",
   "metadata": {},
   "outputs": [
    {
     "name": "stdout",
     "output_type": "stream",
     "text": [
      "[[], [['ACCIONA', '/esp/aspx/Empresas/FichaValor.aspx?ISIN=ES0125220311'], ['140,7000', ''], ['1,08', ''], ['141,4000', ''], ['138,5000', ''], ['125.694', ''], ['17.598,45', ''], ['26/03/2021', ''], ['Cierre', '']], [['ACERINOX', '/esp/aspx/Empresas/FichaValor.aspx?ISIN=ES0132105018'], ['10,8000', ''], ['3,65', ''], ['10,8000', ''], ['10,4650', ''], ['782.046', ''], ['8.362,05', ''], ['26/03/2021', ''], ['Cierre', '']], [['ACS', '/esp/aspx/Empresas/FichaValor.aspx?ISIN=ES0167050915'], ['26,6700', ''], ['1,33', ''], ['26,9700', ''], ['26,3100', ''], ['618.102', ''], ['16.482,18', ''], ['26/03/2021', ''], ['Cierre', '']], [['AENA', '/esp/aspx/Empresas/FichaValor.aspx?ISIN=ES0105046009'], ['134,8000', ''], ['-1,10', ''], ['137,3000', ''], ['134,0000', ''], ['121.897', ''], ['16.441,45', ''], ['26/03/2021', ''], ['Cierre', '']], [['ALMIRALL', '/esp/aspx/Empresas/FichaValor.aspx?ISIN=ES0157097017'], ['11,8800', ''], ['0,68', ''], ['11,9500', ''], ['11,7900', ''], ['242.264', ''], ['2.876,08', ''], ['26/03/2021', ''], ['Cierre', '']], [['AMADEUS', '/esp/aspx/Empresas/FichaValor.aspx?ISIN=ES0109067019'], ['59,4400', ''], ['1,47', ''], ['59,8200', ''], ['58,4800', ''], ['839.621', ''], ['49.806,99', ''], ['26/03/2021', ''], ['Cierre', '']], [['ARCELORMIT.', '/esp/aspx/Empresas/FichaValor.aspx?ISIN=LU1598757687'], ['23,8500', ''], ['8,41', ''], ['23,8850', ''], ['22,3550', ''], ['1.275.662', ''], ['29.703,64', ''], ['26/03/2021', ''], ['Cierre', '']], [['B.SANTANDER', '/esp/aspx/Empresas/FichaValor.aspx?ISIN=ES0113900J37'], ['2,8960', ''], ['1,42', ''], ['2,9670', ''], ['2,8960', ''], ['48.837.965', ''], ['142.553,72', ''], ['26/03/2021', ''], ['Cierre', '']], [['BA.SABADELL', '/esp/aspx/Empresas/FichaValor.aspx?ISIN=ES0113860A34'], ['0,4480', ''], ['0,27', ''], ['0,4585', ''], ['0,4465', ''], ['32.558.898', ''], ['14.679,93', ''], ['26/03/2021', ''], ['Cierre', '']], [['BANKIA', '/esp/aspx/Empresas/FichaValor.aspx?ISIN=ES0113307062'], ['1,7840', ''], ['2,65', ''], ['1,8025', ''], ['1,7390', ''], ['27.864.929', ''], ['49.606,85', ''], ['26/03/2021', ''], ['Cierre', '']], [['BANKINTER', '/esp/aspx/Empresas/FichaValor.aspx?ISIN=ES0113679I37'], ['5,8720', ''], ['1,00', ''], ['5,9480', ''], ['5,8560', ''], ['2.236.782', ''], ['13.177,35', ''], ['26/03/2021', ''], ['Cierre', '']], [['BBVA', '/esp/aspx/Empresas/FichaValor.aspx?ISIN=ES0113211835'], ['4,4330', ''], ['1,77', ''], ['4,4800', ''], ['4,3780', ''], ['18.252.624', ''], ['80.901,98', ''], ['26/03/2021', ''], ['Cierre', '']], [['CAIXABANK', '/esp/aspx/Empresas/FichaValor.aspx?ISIN=ES0140609019'], ['2,6110', ''], ['2,47', ''], ['2,6370', ''], ['2,5440', ''], ['50.728.324', ''], ['132.168,83', ''], ['26/03/2021', ''], ['Cierre', '']], [['CELLNEX', '/esp/aspx/Empresas/FichaValor.aspx?ISIN=ES0105066007'], ['44,5900', ''], ['-0,47', ''], ['45,3300', ''], ['44,1300', ''], ['588.382', ''], ['26.221,43', ''], ['26/03/2021', ''], ['Cierre', '']], [['CIE AUTOMOT.', '/esp/aspx/Empresas/FichaValor.aspx?ISIN=ES0105630315'], ['21,9600', ''], ['0,83', ''], ['22,2000', ''], ['21,8000', ''], ['118.448', ''], ['2.600,50', ''], ['26/03/2021', ''], ['Cierre', '']], [['ENAGAS', '/esp/aspx/Empresas/FichaValor.aspx?ISIN=ES0130960018'], ['18,3900', ''], ['0,14', ''], ['18,4800', ''], ['18,3350', ''], ['739.084', ''], ['13.591,58', ''], ['26/03/2021', ''], ['Cierre', '']], [['ENDESA', '/esp/aspx/Empresas/FichaValor.aspx?ISIN=ES0130670112'], ['22,7400', ''], ['1,16', ''], ['22,7400', ''], ['22,3500', ''], ['1.010.997', ''], ['22.912,61', ''], ['26/03/2021', ''], ['Cierre', '']], [['FERROVIAL', '/esp/aspx/Empresas/FichaValor.aspx?ISIN=ES0118900010'], ['21,7200', ''], ['0,70', ''], ['21,8600', ''], ['21,5000', ''], ['691.539', ''], ['14.994,94', ''], ['26/03/2021', ''], ['Cierre', '']], [['GRIFOLS CL.A', '/esp/aspx/Empresas/FichaValor.aspx?ISIN=ES0171996087'], ['22,8500', ''], ['1,20', ''], ['23,1500', ''], ['22,5000', ''], ['1.193.276', ''], ['27.242,54', ''], ['26/03/2021', ''], ['Cierre', '']], [['IAG', '/esp/aspx/Empresas/FichaValor.aspx?ISIN=ES0177542018'], ['2,2950', ''], ['1,59', ''], ['2,3280', ''], ['2,2470', ''], ['13.570.207', ''], ['31.087,96', ''], ['26/03/2021', ''], ['Cierre', '']], [['IBERDROLA', '/esp/aspx/Empresas/FichaValor.aspx?ISIN=ES0144580Y14'], ['10,9750', ''], ['-0,05', ''], ['11,0150', ''], ['10,8650', ''], ['9.671.651', ''], ['106.011,36', ''], ['26/03/2021', ''], ['Cierre', '']], [['INDITEX', '/esp/aspx/Empresas/FichaValor.aspx?ISIN=ES0148396007'], ['28,2300', ''], ['0,97', ''], ['28,4700', ''], ['28,0800', ''], ['4.239.764', ''], ['119.594,39', ''], ['26/03/2021', ''], ['Cierre', '']], [['INDRA A', '/esp/aspx/Empresas/FichaValor.aspx?ISIN=ES0118594417'], ['7,5500', ''], ['0,33', ''], ['7,6350', ''], ['7,5300', ''], ['436.746', ''], ['3.308,58', ''], ['26/03/2021', ''], ['Cierre', '']], [['INM.COLONIAL', '/esp/aspx/Empresas/FichaValor.aspx?ISIN=ES0139140174'], ['8,2150', ''], ['0,43', ''], ['8,2450', ''], ['8,1250', ''], ['379.739', ''], ['3.114,39', ''], ['26/03/2021', ''], ['Cierre', '']], [['MAPFRE', '/esp/aspx/Empresas/FichaValor.aspx?ISIN=ES0124244E34'], ['1,7690', ''], ['0,17', ''], ['1,7900', ''], ['1,7600', ''], ['4.099.908', ''], ['7.279,40', ''], ['26/03/2021', ''], ['Cierre', '']], [['MELIA HOTELS', '/esp/aspx/Empresas/FichaValor.aspx?ISIN=ES0176252718'], ['6,3450', ''], ['-0,08', ''], ['6,4250', ''], ['6,2600', ''], ['911.183', ''], ['5.773,42', ''], ['26/03/2021', ''], ['Cierre', '']], [['MERLIN', '/esp/aspx/Empresas/FichaValor.aspx?ISIN=ES0105025003'], ['8,6900', ''], ['0,29', ''], ['8,7500', ''], ['8,6500', ''], ['1.022.708', ''], ['8.889,85', ''], ['26/03/2021', ''], ['Cierre', '']], [['NATURGY', '/esp/aspx/Empresas/FichaValor.aspx?ISIN=ES0116870314'], ['20,9300', ''], ['-0,29', ''], ['21,0900', ''], ['20,8600', ''], ['864.980', ''], ['18.143,17', ''], ['26/03/2021', ''], ['Cierre', '']], [['PHARMA MAR', '/esp/aspx/Empresas/FichaValor.aspx?ISIN=ES0169501022'], ['99,1000', ''], ['0,66', ''], ['100,6000', ''], ['97,7500', ''], ['67.226', ''], ['6.669,56', ''], ['26/03/2021', ''], ['Cierre', '']], [['R.E.C.', '/esp/aspx/Empresas/FichaValor.aspx?ISIN=ES0173093024'], ['14,7000', ''], ['0,38', ''], ['14,7000', ''], ['14,5150', ''], ['3.111.758', ''], ['45.530,54', ''], ['26/03/2021', ''], ['Cierre', '']], [['REPSOL', '/esp/aspx/Empresas/FichaValor.aspx?ISIN=ES0173516115'], ['10,6050', ''], ['2,66', ''], ['10,6050', ''], ['10,3450', ''], ['9.146.350', ''], ['96.189,55', ''], ['26/03/2021', ''], ['Cierre', '']], [['SIEMENS GAME', '/esp/aspx/Empresas/FichaValor.aspx?ISIN=ES0143416115'], ['29,0600', ''], ['4,72', ''], ['29,3200', ''], ['27,9900', ''], ['1.729.850', ''], ['49.674,33', ''], ['26/03/2021', ''], ['Cierre', '']], [['SOLARIA', '/esp/aspx/Empresas/FichaValor.aspx?ISIN=ES0165386014'], ['17,2100', ''], ['0,41', ''], ['17,6900', ''], ['16,6100', ''], ['1.554.205', ''], ['26.558,76', ''], ['26/03/2021', ''], ['Cierre', '']], [['TELEFONICA', '/esp/aspx/Empresas/FichaValor.aspx?ISIN=ES0178430E18'], ['4,0270', ''], ['0,98', ''], ['4,0590', ''], ['3,9920', ''], ['9.860.479', ''], ['39.721,77', ''], ['26/03/2021', ''], ['Cierre', '']], [['VISCOFAN', '/esp/aspx/Empresas/FichaValor.aspx?ISIN=ES0184262212'], ['58,2500', ''], ['2,46', ''], ['58,2500', ''], ['56,6000', ''], ['148.605', ''], ['8.484,34', ''], ['26/03/2021', ''], ['Cierre', '']]]\n"
     ]
    }
   ],
   "source": [
    "# indicar la ruta\n",
    "urlbase = 'https://www.borsabcn.es'\n",
    "urlRef= '/esp/aspx/Mercados/Precios.aspx?indice=ESI100000000&punto=indice'\n",
    "indexList = getIndexs(urlbase,urlRef);\n",
    "print(indexList)\n"
   ]
  },
  {
   "cell_type": "code",
   "execution_count": 28,
   "id": "stunning-algebra",
   "metadata": {},
   "outputs": [],
   "source": [
    "writecsv(indexList,\"ListaIndices.csv\")"
   ]
  },
  {
   "cell_type": "code",
   "execution_count": null,
   "id": "automatic-mills",
   "metadata": {},
   "outputs": [],
   "source": [
    "tabla"
   ]
  },
  {
   "cell_type": "code",
   "execution_count": null,
   "id": "still-amsterdam",
   "metadata": {},
   "outputs": [],
   "source": []
  },
  {
   "cell_type": "code",
   "execution_count": null,
   "id": "classified-sector",
   "metadata": {},
   "outputs": [],
   "source": []
  }
 ],
 "metadata": {
  "kernelspec": {
   "display_name": "Python 3",
   "language": "python",
   "name": "python3"
  },
  "language_info": {
   "codemirror_mode": {
    "name": "ipython",
    "version": 3
   },
   "file_extension": ".py",
   "mimetype": "text/x-python",
   "name": "python",
   "nbconvert_exporter": "python",
   "pygments_lexer": "ipython3",
   "version": "3.8.8"
  }
 },
 "nbformat": 4,
 "nbformat_minor": 5
}
